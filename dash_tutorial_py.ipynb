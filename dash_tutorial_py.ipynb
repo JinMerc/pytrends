{
  "nbformat": 4,
  "nbformat_minor": 0,
  "metadata": {
    "colab": {
      "name": "dash tutorial.py",
      "provenance": [],
      "authorship_tag": "ABX9TyN1w50rJvRaLEteZ97BkbrJ",
      "include_colab_link": true
    },
    "kernelspec": {
      "name": "python3",
      "display_name": "Python 3"
    },
    "language_info": {
      "name": "python"
    }
  },
  "cells": [
    {
      "cell_type": "markdown",
      "metadata": {
        "id": "view-in-github",
        "colab_type": "text"
      },
      "source": [
        "<a href=\"https://colab.research.google.com/github/JinMerc/pytrends/blob/main/dash_tutorial_py.ipynb\" target=\"_parent\"><img src=\"https://colab.research.google.com/assets/colab-badge.svg\" alt=\"Open In Colab\"/></a>"
      ]
    },
    {
      "cell_type": "code",
      "execution_count": 2,
      "metadata": {
        "colab": {
          "base_uri": "https://localhost:8080/"
        },
        "id": "__APbKpqzRTQ",
        "outputId": "ca17d0da-2a4b-41a5-a7f3-3326209a6fb8"
      },
      "outputs": [
        {
          "output_type": "stream",
          "name": "stdout",
          "text": [
            "Collecting ngrok\n",
            "  Using cached ngrok-0.1.6.tar.gz (3.5 kB)\n",
            "Collecting ping\n",
            "  Using cached ping-0.2.tar.gz (10 kB)\n",
            "\u001b[33mWARNING: Discarding https://files.pythonhosted.org/packages/03/ac/9a3f332f8d7d27cd8929922b2e225842c1623760364b37fc79dc0f65e77d/ping-0.2.tar.gz#sha256=ecb32294c2af8ae075de4a3743f568db376480ad81c2e010a7f1ce1cee7b030f (from https://pypi.org/simple/ping/). Command errored out with exit status 1: python setup.py egg_info Check the logs for full command output.\u001b[0m\n",
            "  Using cached ping-0.1.tar.gz (10 kB)\n",
            "\u001b[33mWARNING: Discarding https://files.pythonhosted.org/packages/e6/e1/0d6a865e59fc27e13c0f39afea889f34a62b209046bfb863b62b614e5a3a/ping-0.1.tar.gz#sha256=e86c646487241be6e44262b182f0fbfdc2c00f2a4a0b7b3f0c499137957d81c1 (from https://pypi.org/simple/ping/). Command errored out with exit status 1: python setup.py egg_info Check the logs for full command output.\u001b[0m\n",
            "Collecting ngrok\n",
            "  Using cached ngrok-0.1.5.tar.gz (3.5 kB)\n",
            "  Downloading ngrok-0.1.4-py3-none-any.whl (4.3 kB)\n",
            "  Downloading ngrok-0.0.1.tar.gz (1.4 kB)\n",
            "Building wheels for collected packages: ngrok\n",
            "  Building wheel for ngrok (setup.py) ... \u001b[?25l\u001b[?25hdone\n",
            "  Created wheel for ngrok: filename=ngrok-0.0.1-py3-none-any.whl size=3061 sha256=41da27debd4347a61c8b1a4b10cb3f957e0f5ee561dd5df0b2ab45a8c1820dd9\n",
            "  Stored in directory: /root/.cache/pip/wheels/b2/f2/1e/11e57b35a7c1ea622a4cff4d9622bebd373f6371f3b1728a00\n",
            "Successfully built ngrok\n",
            "Installing collected packages: ngrok\n",
            "Successfully installed ngrok-0.0.1\n"
          ]
        }
      ],
      "source": [
        "!pip install ngrok"
      ]
    },
    {
      "cell_type": "code",
      "source": [
        "!pip install pyngrok"
      ],
      "metadata": {
        "colab": {
          "base_uri": "https://localhost:8080/"
        },
        "id": "iWY5Ag3xzexR",
        "outputId": "58fe428e-c7e5-4ac9-f909-fdfaa11b0ff2"
      },
      "execution_count": 3,
      "outputs": [
        {
          "output_type": "stream",
          "name": "stdout",
          "text": [
            "Collecting pyngrok\n",
            "  Downloading pyngrok-5.1.0.tar.gz (745 kB)\n",
            "\u001b[?25l\r\u001b[K     |▍                               | 10 kB 18.5 MB/s eta 0:00:01\r\u001b[K     |▉                               | 20 kB 23.3 MB/s eta 0:00:01\r\u001b[K     |█▎                              | 30 kB 11.3 MB/s eta 0:00:01\r\u001b[K     |█▊                              | 40 kB 8.8 MB/s eta 0:00:01\r\u001b[K     |██▏                             | 51 kB 4.7 MB/s eta 0:00:01\r\u001b[K     |██▋                             | 61 kB 5.5 MB/s eta 0:00:01\r\u001b[K     |███                             | 71 kB 5.6 MB/s eta 0:00:01\r\u001b[K     |███▌                            | 81 kB 5.6 MB/s eta 0:00:01\r\u001b[K     |████                            | 92 kB 6.2 MB/s eta 0:00:01\r\u001b[K     |████▍                           | 102 kB 5.4 MB/s eta 0:00:01\r\u001b[K     |████▉                           | 112 kB 5.4 MB/s eta 0:00:01\r\u001b[K     |█████▎                          | 122 kB 5.4 MB/s eta 0:00:01\r\u001b[K     |█████▊                          | 133 kB 5.4 MB/s eta 0:00:01\r\u001b[K     |██████▏                         | 143 kB 5.4 MB/s eta 0:00:01\r\u001b[K     |██████▋                         | 153 kB 5.4 MB/s eta 0:00:01\r\u001b[K     |███████                         | 163 kB 5.4 MB/s eta 0:00:01\r\u001b[K     |███████▌                        | 174 kB 5.4 MB/s eta 0:00:01\r\u001b[K     |████████                        | 184 kB 5.4 MB/s eta 0:00:01\r\u001b[K     |████████▍                       | 194 kB 5.4 MB/s eta 0:00:01\r\u001b[K     |████████▉                       | 204 kB 5.4 MB/s eta 0:00:01\r\u001b[K     |█████████▎                      | 215 kB 5.4 MB/s eta 0:00:01\r\u001b[K     |█████████▊                      | 225 kB 5.4 MB/s eta 0:00:01\r\u001b[K     |██████████▏                     | 235 kB 5.4 MB/s eta 0:00:01\r\u001b[K     |██████████▌                     | 245 kB 5.4 MB/s eta 0:00:01\r\u001b[K     |███████████                     | 256 kB 5.4 MB/s eta 0:00:01\r\u001b[K     |███████████▍                    | 266 kB 5.4 MB/s eta 0:00:01\r\u001b[K     |███████████▉                    | 276 kB 5.4 MB/s eta 0:00:01\r\u001b[K     |████████████▎                   | 286 kB 5.4 MB/s eta 0:00:01\r\u001b[K     |████████████▊                   | 296 kB 5.4 MB/s eta 0:00:01\r\u001b[K     |█████████████▏                  | 307 kB 5.4 MB/s eta 0:00:01\r\u001b[K     |█████████████▋                  | 317 kB 5.4 MB/s eta 0:00:01\r\u001b[K     |██████████████                  | 327 kB 5.4 MB/s eta 0:00:01\r\u001b[K     |██████████████▌                 | 337 kB 5.4 MB/s eta 0:00:01\r\u001b[K     |███████████████                 | 348 kB 5.4 MB/s eta 0:00:01\r\u001b[K     |███████████████▍                | 358 kB 5.4 MB/s eta 0:00:01\r\u001b[K     |███████████████▉                | 368 kB 5.4 MB/s eta 0:00:01\r\u001b[K     |████████████████▎               | 378 kB 5.4 MB/s eta 0:00:01\r\u001b[K     |████████████████▊               | 389 kB 5.4 MB/s eta 0:00:01\r\u001b[K     |█████████████████▏              | 399 kB 5.4 MB/s eta 0:00:01\r\u001b[K     |█████████████████▋              | 409 kB 5.4 MB/s eta 0:00:01\r\u001b[K     |██████████████████              | 419 kB 5.4 MB/s eta 0:00:01\r\u001b[K     |██████████████████▌             | 430 kB 5.4 MB/s eta 0:00:01\r\u001b[K     |███████████████████             | 440 kB 5.4 MB/s eta 0:00:01\r\u001b[K     |███████████████████▍            | 450 kB 5.4 MB/s eta 0:00:01\r\u001b[K     |███████████████████▉            | 460 kB 5.4 MB/s eta 0:00:01\r\u001b[K     |████████████████████▎           | 471 kB 5.4 MB/s eta 0:00:01\r\u001b[K     |████████████████████▋           | 481 kB 5.4 MB/s eta 0:00:01\r\u001b[K     |█████████████████████           | 491 kB 5.4 MB/s eta 0:00:01\r\u001b[K     |█████████████████████▌          | 501 kB 5.4 MB/s eta 0:00:01\r\u001b[K     |██████████████████████          | 512 kB 5.4 MB/s eta 0:00:01\r\u001b[K     |██████████████████████▍         | 522 kB 5.4 MB/s eta 0:00:01\r\u001b[K     |██████████████████████▉         | 532 kB 5.4 MB/s eta 0:00:01\r\u001b[K     |███████████████████████▎        | 542 kB 5.4 MB/s eta 0:00:01\r\u001b[K     |███████████████████████▊        | 552 kB 5.4 MB/s eta 0:00:01\r\u001b[K     |████████████████████████▏       | 563 kB 5.4 MB/s eta 0:00:01\r\u001b[K     |████████████████████████▋       | 573 kB 5.4 MB/s eta 0:00:01\r\u001b[K     |█████████████████████████       | 583 kB 5.4 MB/s eta 0:00:01\r\u001b[K     |█████████████████████████▌      | 593 kB 5.4 MB/s eta 0:00:01\r\u001b[K     |██████████████████████████      | 604 kB 5.4 MB/s eta 0:00:01\r\u001b[K     |██████████████████████████▍     | 614 kB 5.4 MB/s eta 0:00:01\r\u001b[K     |██████████████████████████▉     | 624 kB 5.4 MB/s eta 0:00:01\r\u001b[K     |███████████████████████████▎    | 634 kB 5.4 MB/s eta 0:00:01\r\u001b[K     |███████████████████████████▊    | 645 kB 5.4 MB/s eta 0:00:01\r\u001b[K     |████████████████████████████▏   | 655 kB 5.4 MB/s eta 0:00:01\r\u001b[K     |████████████████████████████▋   | 665 kB 5.4 MB/s eta 0:00:01\r\u001b[K     |█████████████████████████████   | 675 kB 5.4 MB/s eta 0:00:01\r\u001b[K     |█████████████████████████████▌  | 686 kB 5.4 MB/s eta 0:00:01\r\u001b[K     |██████████████████████████████  | 696 kB 5.4 MB/s eta 0:00:01\r\u001b[K     |██████████████████████████████▍ | 706 kB 5.4 MB/s eta 0:00:01\r\u001b[K     |██████████████████████████████▊ | 716 kB 5.4 MB/s eta 0:00:01\r\u001b[K     |███████████████████████████████▏| 727 kB 5.4 MB/s eta 0:00:01\r\u001b[K     |███████████████████████████████▋| 737 kB 5.4 MB/s eta 0:00:01\r\u001b[K     |████████████████████████████████| 745 kB 5.4 MB/s \n",
            "\u001b[?25hRequirement already satisfied: PyYAML in /usr/local/lib/python3.7/dist-packages (from pyngrok) (3.13)\n",
            "Building wheels for collected packages: pyngrok\n",
            "  Building wheel for pyngrok (setup.py) ... \u001b[?25l\u001b[?25hdone\n",
            "  Created wheel for pyngrok: filename=pyngrok-5.1.0-py3-none-any.whl size=19007 sha256=91667c04ceb165d95c9eac541009e1ce0e753699e0d4d67201c4ea3d47d8766e\n",
            "  Stored in directory: /root/.cache/pip/wheels/bf/e6/af/ccf6598ecefecd44104069371795cb9b3afbcd16987f6ccfb3\n",
            "Successfully built pyngrok\n",
            "Installing collected packages: pyngrok\n",
            "Successfully installed pyngrok-5.1.0\n"
          ]
        }
      ]
    },
    {
      "cell_type": "code",
      "source": [
        "from pyngrok import ngrok\n",
        "ngrok.kill()\n",
        "auth_token=\"26QmjwpISbxKFfOjGU7GlYML62o_JuV7SBGihtvQx9qYyHso\"\n",
        "ngrok.set_auth_token(auth_token)"
      ],
      "metadata": {
        "colab": {
          "base_uri": "https://localhost:8080/"
        },
        "id": "EtV6T55wzsWs",
        "outputId": "113f1a54-8864-4510-d4b8-a0222a6b5f9b"
      },
      "execution_count": 5,
      "outputs": [
        {
          "output_type": "stream",
          "name": "stdout",
          "text": [
            ""
          ]
        }
      ]
    },
    {
      "cell_type": "code",
      "source": [
        "%%sh\n",
        "pip install dash\n",
        "pip install dash_core_components\n",
        "pip install dash_html_components\n",
        "pip install dash_table\n"
      ],
      "metadata": {
        "colab": {
          "base_uri": "https://localhost:8080/"
        },
        "id": "1WIlJ-sf0HhO",
        "outputId": "d075020a-a2ca-4737-85de-d9843cf0e56b"
      },
      "execution_count": 6,
      "outputs": [
        {
          "output_type": "stream",
          "name": "stdout",
          "text": [
            "Collecting dash\n",
            "  Downloading dash-2.3.0-py3-none-any.whl (9.6 MB)\n",
            "Collecting dash-table==5.0.0\n",
            "  Downloading dash_table-5.0.0-py3-none-any.whl (3.9 kB)\n",
            "Collecting dash-core-components==2.0.0\n",
            "  Downloading dash_core_components-2.0.0-py3-none-any.whl (3.8 kB)\n",
            "Collecting flask-compress\n",
            "  Downloading Flask_Compress-1.11-py3-none-any.whl (7.9 kB)\n",
            "Collecting dash-html-components==2.0.0\n",
            "  Downloading dash_html_components-2.0.0-py3-none-any.whl (4.1 kB)\n",
            "Requirement already satisfied: Flask>=1.0.4 in /usr/local/lib/python3.7/dist-packages (from dash) (1.1.4)\n",
            "Requirement already satisfied: plotly>=5.0.0 in /usr/local/lib/python3.7/dist-packages (from dash) (5.5.0)\n",
            "Requirement already satisfied: click<8.0,>=5.1 in /usr/local/lib/python3.7/dist-packages (from Flask>=1.0.4->dash) (7.1.2)\n",
            "Requirement already satisfied: Werkzeug<2.0,>=0.15 in /usr/local/lib/python3.7/dist-packages (from Flask>=1.0.4->dash) (1.0.1)\n",
            "Requirement already satisfied: Jinja2<3.0,>=2.10.1 in /usr/local/lib/python3.7/dist-packages (from Flask>=1.0.4->dash) (2.11.3)\n",
            "Requirement already satisfied: itsdangerous<2.0,>=0.24 in /usr/local/lib/python3.7/dist-packages (from Flask>=1.0.4->dash) (1.1.0)\n",
            "Requirement already satisfied: MarkupSafe>=0.23 in /usr/local/lib/python3.7/dist-packages (from Jinja2<3.0,>=2.10.1->Flask>=1.0.4->dash) (2.0.1)\n",
            "Requirement already satisfied: six in /usr/local/lib/python3.7/dist-packages (from plotly>=5.0.0->dash) (1.15.0)\n",
            "Requirement already satisfied: tenacity>=6.2.0 in /usr/local/lib/python3.7/dist-packages (from plotly>=5.0.0->dash) (8.0.1)\n",
            "Collecting brotli\n",
            "  Downloading Brotli-1.0.9-cp37-cp37m-manylinux1_x86_64.whl (357 kB)\n",
            "Installing collected packages: brotli, flask-compress, dash-table, dash-html-components, dash-core-components, dash\n",
            "Successfully installed brotli-1.0.9 dash-2.3.0 dash-core-components-2.0.0 dash-html-components-2.0.0 dash-table-5.0.0 flask-compress-1.11\n",
            "Requirement already satisfied: dash_core_components in /usr/local/lib/python3.7/dist-packages (2.0.0)\n",
            "Requirement already satisfied: dash_html_components in /usr/local/lib/python3.7/dist-packages (2.0.0)\n",
            "Requirement already satisfied: dash_table in /usr/local/lib/python3.7/dist-packages (5.0.0)\n"
          ]
        }
      ]
    },
    {
      "cell_type": "code",
      "source": [
        "%%writefile app.py\n",
        "\n",
        "from dash import Dash, dcc, html\n",
        "import plotly.express as px\n",
        "import pandas as pd\n",
        "\n",
        "app = Dash(__name__)\n",
        "\n",
        "colors = {\n",
        "    'background': '#111111',\n",
        "    'text': '#7FDBFF'\n",
        "}\n",
        "\n",
        "# assume you have a \"long-form\" data frame\n",
        "# see https://plotly.com/python/px-arguments/ for more options\n",
        "df = pd.DataFrame({\n",
        "    \"Fruit\": [\"Apples\", \"Oranges\", \"Bananas\", \"Apples\", \"Oranges\", \"Bananas\"],\n",
        "    \"Amount\": [4, 1, 2, 2, 4, 5],\n",
        "    \"City\": [\"SF\", \"SF\", \"SF\", \"Montreal\", \"Montreal\", \"Montreal\"]\n",
        "})\n",
        "\n",
        "fig = px.bar(df, x=\"Fruit\", y=\"Amount\", color=\"City\", barmode=\"group\")\n",
        "\n",
        "fig.update_layout(\n",
        "    plot_bgcolor=colors['background'],\n",
        "    paper_bgcolor=colors['background'],\n",
        "    font_color=colors['text']\n",
        ")\n",
        "\n",
        "app.layout = html.Div(style={'backgroundColor': colors['background']}, children=[\n",
        "    html.H1(\n",
        "        children='Hello Dash',\n",
        "        style={\n",
        "            'textAlign': 'center',\n",
        "            'color': colors['text']\n",
        "        }\n",
        "    ),\n",
        "\n",
        "    html.Div(children='Dash: A web application framework for your data.', style={\n",
        "        'textAlign': 'center',\n",
        "        'color': colors['text']\n",
        "    }),\n",
        "\n",
        "    dcc.Graph(\n",
        "        id='example-graph-2',\n",
        "        figure=fig\n",
        "    )\n",
        "])\n",
        "\n",
        "if __name__ == '__main__':\n",
        "    app.run_server(debug=True)"
      ],
      "metadata": {
        "colab": {
          "base_uri": "https://localhost:8080/"
        },
        "id": "bONOUzOa09YL",
        "outputId": "d059cad8-c04d-4538-a88f-afae860cddd7"
      },
      "execution_count": 9,
      "outputs": [
        {
          "output_type": "stream",
          "name": "stdout",
          "text": [
            "Writing app.py\n"
          ]
        }
      ]
    },
    {
      "cell_type": "code",
      "source": [
        ""
      ],
      "metadata": {
        "id": "0SMdORad1lgp"
      },
      "execution_count": null,
      "outputs": []
    },
    {
      "cell_type": "code",
      "source": [
        "ngrok.connect(8050)"
      ],
      "metadata": {
        "colab": {
          "base_uri": "https://localhost:8080/"
        },
        "id": "RliWrp9w1orl",
        "outputId": "54294d35-4cab-4a76-bd6e-99d49d19698f"
      },
      "execution_count": 10,
      "outputs": [
        {
          "output_type": "execute_result",
          "data": {
            "text/plain": [
              "<NgrokTunnel: \"http://8846-34-136-202-112.ngrok.io\" -> \"http://localhost:8050\">"
            ]
          },
          "metadata": {},
          "execution_count": 10
        }
      ]
    },
    {
      "cell_type": "code",
      "source": [
        "!python app.py"
      ],
      "metadata": {
        "colab": {
          "base_uri": "https://localhost:8080/"
        },
        "id": "zQH72Ucn1tVW",
        "outputId": "e2f03102-bdb7-4cbe-c851-60e244aa45bc"
      },
      "execution_count": null,
      "outputs": [
        {
          "output_type": "stream",
          "name": "stdout",
          "text": [
            "Dash is running on http://127.0.0.1:8050/\n",
            "\n",
            " * Serving Flask app \"app\" (lazy loading)\n",
            " * Environment: production\n",
            "\u001b[31m   WARNING: This is a development server. Do not use it in a production deployment.\u001b[0m\n",
            "\u001b[2m   Use a production WSGI server instead.\u001b[0m\n",
            " * Debug mode: on\n"
          ]
        }
      ]
    }
  ]
}